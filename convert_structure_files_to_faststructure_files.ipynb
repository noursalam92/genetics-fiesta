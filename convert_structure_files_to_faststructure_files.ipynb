{
 "cells": [
  {
   "cell_type": "markdown",
   "metadata": {},
   "source": [
    "This Python script converts genotype data in the Structure format to the fastStructure data format. Structure data format is obtained by using the software Convert http://onlinelibrary.wiley.com/doi/10.1111/j.1471-8286.2004.00597.x/abstract \n",
   ]
  },
  {
 "cells": [
  {
   "cell_type": "code",
   "execution_count": null,
   "metadata": {
    "collapsed": true
   },
   "outputs": [],
   "source": [
    "#! /usr/bin/env python3\n",
    "\n",
    "#These 2 lines will pass your .str file to the .py file as an argument in the command line\n",
    "import sys\n",
    "In_File = sys.argv[1]\n",
    "\n",
    "infile = open(In_File, 'r')\n",
    "Out_File = In_File + 'fast.str'\n",
    "outfile = open(Out_File, 'w')\n",
    "\n",
    "data = infile.readlines()\n",
    "data = data[1:] # Gets rid of loci names\n",
    "\n",
    "for a in data:\n",
    "    a = a.strip('\\n')\n",
    "    b = a.split()\n",
    "    c = b[2:]\n",
    "    d = ' '.join(c)\n",
    "    e = b[0]\n",
    "    f = b[1]\n",
    "    if a == data[-1]:\n",
    "        output_line = e +'\\t'+ f +'\\t1\\t0\\t0\\textraCol\\t'+ d\n",
    "        outfile.write(output_line)\n",
    "    else:\n",
    "        output_line = e +'\\t'+ f +'\\t1\\t0\\t0\\textraCol\\t'+ d + '\\n'\n",
    "        outfile.write(output_line)\n",
    "\n",
    "infile.close()\n",
    "outfile.close()"
   ]
  }
 ],
 "metadata": {
  "anaconda-cloud": {},
  "kernelspec": {
   "display_name": "Python [Root]",
   "language": "python",
   "name": "Python [Root]"
  },
  "language_info": {
   "codemirror_mode": {
    "name": "ipython",
    "version": 3
   },
   "file_extension": ".py",
   "mimetype": "text/x-python",
   "name": "python",
   "nbconvert_exporter": "python",
   "pygments_lexer": "ipython3",
   "version": "3.5.2"
  }
 },
 "nbformat": 4,
 "nbformat_minor": 0
}
