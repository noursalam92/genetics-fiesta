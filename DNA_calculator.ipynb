{
 "cells": [
  {
   "cell_type": "markdown",
   "metadata": {},
   "source": [
    "This Python script is intended to give baseline information about an input DNA sequence. It calculates the length of a sequence, its nucleotide contents in percentages, and its melting temperature in degrees Celsius."
   ]
  },
  {
   "cell_type": "code",
   "execution_count": null,
   "metadata": {
    "collapsed": true
   },
   "outputs": [],
   "source": [
    "#! /usr/bin/env python3\n",
    "\n",
    "DNASeq = input('Insert your sequence:')\n",
    "\n",
    "# Conversion of all characters to uppercase.\n",
    "DNASeq = DNASeq.upper()\n",
    "\n",
    "# Removal of all potential spaces in sequence.\n",
    "DNASeq = DNASeq.replace(\" \",\"\")\n",
    "print('Corrected DNA sequence:',DNASeq)\n",
    "\n",
    "# The number of bases in the sequence is counted below.\n",
    "DNASeq_length=len(DNASeq)\n",
    "print('Sequence length:',DNASeq_length,'bp')\n",
    "\n",
    "# Each base in the sequence is counted separately.\n",
    "NumberA = DNASeq.count('A')\n",
    "NumberT = DNASeq.count('T')\n",
    "NumberG = DNASeq.count('G')\n",
    "NumberC = DNASeq.count('C')\n",
    "\n",
    "# S means strong bond and W means weak bond.\n",
    "S = NumberG + NumberC\n",
    "W = NumberA + NumberT\n",
    "\n",
    "# Percentage of bases calculation.\n",
    "BaseList = 'ACGT'\n",
    "for Base in BaseList:\n",
    "    Percent = 100 * DNASeq.count(Base)/DNASeq_length\n",
    "    print('%s content: %4.1f %%' %(Base,Percent))\n",
    "\n",
    "# Melting temperature calculation.\n",
    "if DNASeq_length>14 : \n",
    "    MeltTempLong = 64.9 + 41 * (S - 16.4)/ DNASeq_length\n",
    "    print('Melting temperature long (>14): %.1f C' %(MeltTempLong))\n",
    "else:\n",
    "    MeltTempShort = (4*S) + (2*W)\n",
    "    print('Melting temperature short (<14): %.1f C' %(MeltTempShort))"
   ]
  }
 ],
 "metadata": {
  "anaconda-cloud": {},
  "kernelspec": {
   "display_name": "Python [Root]",
   "language": "python",
   "name": "Python [Root]"
  },
  "language_info": {
   "codemirror_mode": {
    "name": "ipython",
    "version": 3
   },
   "file_extension": ".py",
   "mimetype": "text/x-python",
   "name": "python",
   "nbconvert_exporter": "python",
   "pygments_lexer": "ipython3",
   "version": "3.5.2"
  }
 },
 "nbformat": 4,
 "nbformat_minor": 0
}
